{
 "cells": [
  {
   "cell_type": "raw",
   "id": "0ba0d0ba-8bcb-4b3c-91fe-b78689daace8",
   "metadata": {},
   "source": [
    "What is Pandas?\n",
    "Pandas is a fast, powerful, flexible and easy to use open source data analysis and manipulation tool built on top of the python programming language."
   ]
  },
  {
   "cell_type": "raw",
   "id": "cd1962b6-f8c1-4fcd-ab66-5102e5441298",
   "metadata": {},
   "source": [
    "Pandas Series\n",
    "A panda series is like a column in a table. It is a 1-D holding data of any type."
   ]
  },
  {
   "cell_type": "raw",
   "id": "e6c0cc62-befa-4806-8d8b-ff2757b0e881",
   "metadata": {},
   "source": [
    "Importing Pandas:"
   ]
  },
  {
   "cell_type": "code",
   "execution_count": 1,
   "id": "1b41d0ad-51aa-4ec7-a048-cb23a2298e0a",
   "metadata": {},
   "outputs": [],
   "source": [
    "import numpy as np\n",
    "import pandas as pd"
   ]
  },
  {
   "cell_type": "raw",
   "id": "0435219b-9ba7-4e3a-a063-5f8fbeec627c",
   "metadata": {},
   "source": [
    "Series form list"
   ]
  },
  {
   "cell_type": "code",
   "execution_count": 2,
   "id": "bfb4b040-73ef-4cea-8329-e3c9f1663296",
   "metadata": {},
   "outputs": [
    {
     "data": {
      "text/plain": [
       "0        Nepal\n",
       "1          USA\n",
       "2           UK\n",
       "3    Australia\n",
       "4        Japan\n",
       "dtype: object"
      ]
     },
     "execution_count": 2,
     "metadata": {},
     "output_type": "execute_result"
    }
   ],
   "source": [
    "#string\n",
    "country = [\"Nepal\",\"USA\",\"UK\",\"Australia\",\"Japan\"]\n",
    "pd.Series(country)"
   ]
  },
  {
   "cell_type": "code",
   "execution_count": 7,
   "id": "ec5820cb-22dd-4bf9-a966-37c74b7dd8aa",
   "metadata": {},
   "outputs": [],
   "source": [
    "#integer\n",
    "runs = [1,2,5,3,0.6]"
   ]
  },
  {
   "cell_type": "code",
   "execution_count": 8,
   "id": "04f1aad5-d3a9-437e-bd14-4fe637558605",
   "metadata": {},
   "outputs": [
    {
     "data": {
      "text/plain": [
       "0    1.0\n",
       "1    2.0\n",
       "2    5.0\n",
       "3    3.0\n",
       "4    0.6\n",
       "dtype: float64"
      ]
     },
     "execution_count": 8,
     "metadata": {},
     "output_type": "execute_result"
    }
   ],
   "source": [
    "pd.Series(runs)"
   ]
  },
  {
   "cell_type": "code",
   "execution_count": 23,
   "id": "2d38e0a6-b66d-44ed-aa56-00f412bf4801",
   "metadata": {},
   "outputs": [
    {
     "data": {
      "text/plain": [
       "Computer graphics    68\n",
       "Stat                 70\n",
       "CA                   75\n",
       "DSA                  80\n",
       "NM                   78\n",
       "dtype: int64"
      ]
     },
     "execution_count": 23,
     "metadata": {},
     "output_type": "execute_result"
    }
   ],
   "source": [
    "#custom index\n",
    "marks= [68,70,75,80,78]\n",
    "subjects=[\"Computer graphics\",\"Stat\",\"CA\",\"DSA\",\"NM\"]\n",
    "pd.Series(marks,index =subjects)\n"
   ]
  },
  {
   "cell_type": "code",
   "execution_count": 26,
   "id": "d85ca151-3df4-47a1-81b0-95627c658be5",
   "metadata": {},
   "outputs": [
    {
     "data": {
      "text/plain": [
       "Computer graphics    68\n",
       "Stat                 70\n",
       "CA                   75\n",
       "DSA                  80\n",
       "NM                   78\n",
       "Name: Preeti Paudel, dtype: int64"
      ]
     },
     "execution_count": 26,
     "metadata": {},
     "output_type": "execute_result"
    }
   ],
   "source": [
    "#setting a name\n",
    "mark_series = pd.Series(marks,index =subjects,name = \"Preeti Paudel\")\n",
    "mark_series"
   ]
  },
  {
   "cell_type": "raw",
   "id": "0fe26f52-bf7b-4642-8e80-607e04f032fd",
   "metadata": {},
   "source": [
    "Series from dictionaries:"
   ]
  },
  {
   "cell_type": "code",
   "execution_count": 14,
   "id": "249f6cbe-e517-4e0a-81b9-14f3b5e326f9",
   "metadata": {},
   "outputs": [
    {
     "data": {
      "text/plain": [
       "computer graphics    68\n",
       "Stat                 70\n",
       "CA                   75\n",
       "DSA                  80\n",
       "NM                   78\n",
       "Name: Preeti Paudel, dtype: int64"
      ]
     },
     "execution_count": 14,
     "metadata": {},
     "output_type": "execute_result"
    }
   ],
   "source": [
    "marks = {\n",
    "    \"computer graphics\":68,\n",
    "    \"Stat\":70,\n",
    "     \"CA\" : 75,\n",
    "     \"DSA\": 80,\n",
    "    \"NM\": 78\n",
    "    \n",
    "}\n",
    "preeti_marks = pd.Series(marks,name = \"Preeti Paudel\")\n",
    "preeti_marks"
   ]
  },
  {
   "cell_type": "raw",
   "id": "3b49fd5f-4686-4e55-b7af-41dd3a2800cb",
   "metadata": {},
   "source": [
    "Series attributes:"
   ]
  },
  {
   "cell_type": "code",
   "execution_count": 27,
   "id": "ea843b91-24e7-4218-b129-f94de8559399",
   "metadata": {},
   "outputs": [
    {
     "data": {
      "text/plain": [
       "5"
      ]
     },
     "execution_count": 27,
     "metadata": {},
     "output_type": "execute_result"
    }
   ],
   "source": [
    "#size\n",
    "mark_series.size"
   ]
  },
  {
   "cell_type": "code",
   "execution_count": 28,
   "id": "43008a0b-b5d6-4819-b5dd-e2effedf38b6",
   "metadata": {},
   "outputs": [
    {
     "data": {
      "text/plain": [
       "dtype('int64')"
      ]
     },
     "execution_count": 28,
     "metadata": {},
     "output_type": "execute_result"
    }
   ],
   "source": [
    "#dtype\n",
    "mark_series.dtype"
   ]
  },
  {
   "cell_type": "code",
   "execution_count": 31,
   "id": "ec21edf9-2bef-4bea-95a6-a80de8bb6ef0",
   "metadata": {},
   "outputs": [
    {
     "data": {
      "text/plain": [
       "'Preeti Paudel'"
      ]
     },
     "execution_count": 31,
     "metadata": {},
     "output_type": "execute_result"
    }
   ],
   "source": [
    "#name\n",
    "mark_series.name"
   ]
  },
  {
   "cell_type": "code",
   "execution_count": 32,
   "id": "f2fdb41f-3f93-4f97-8822-1370449a57e3",
   "metadata": {},
   "outputs": [
    {
     "data": {
      "text/plain": [
       "True"
      ]
     },
     "execution_count": 32,
     "metadata": {},
     "output_type": "execute_result"
    }
   ],
   "source": [
    "#is unique : it tells all the items in series is unique or not.\n",
    "mark_series.is_unique\n"
   ]
  },
  {
   "cell_type": "code",
   "execution_count": 33,
   "id": "bfec0a4a-dd35-4b1e-8212-2621bb99163c",
   "metadata": {},
   "outputs": [
    {
     "data": {
      "text/plain": [
       "False"
      ]
     },
     "execution_count": 33,
     "metadata": {},
     "output_type": "execute_result"
    }
   ],
   "source": [
    "pd.Series([1,1,2,3,2,3,2,3,5]).is_unique"
   ]
  },
  {
   "cell_type": "code",
   "execution_count": 34,
   "id": "4c3ae1a5-e98e-4e8c-b01b-ae84471332a1",
   "metadata": {},
   "outputs": [
    {
     "data": {
      "text/plain": [
       "Index(['Computer graphics', 'Stat', 'CA', 'DSA', 'NM'], dtype='object')"
      ]
     },
     "execution_count": 34,
     "metadata": {},
     "output_type": "execute_result"
    }
   ],
   "source": [
    "#index: it gives all the index items\n",
    "marks_series.index"
   ]
  },
  {
   "cell_type": "code",
   "execution_count": 38,
   "id": "2d0d29a0-69d2-43e4-8762-431db8e86a2e",
   "metadata": {},
   "outputs": [
    {
     "data": {
      "text/plain": [
       "array([68, 70, 75, 80, 78], dtype=int64)"
      ]
     },
     "execution_count": 38,
     "metadata": {},
     "output_type": "execute_result"
    }
   ],
   "source": [
    "#value : it giives all the values\n",
    "marks_series.values"
   ]
  },
  {
   "cell_type": "code",
   "execution_count": 40,
   "id": "26e3e215-e416-4db9-bab4-4058f9c5a605",
   "metadata": {},
   "outputs": [
    {
     "data": {
      "text/plain": [
       "pandas.core.series.Series"
      ]
     },
     "execution_count": 40,
     "metadata": {},
     "output_type": "execute_result"
    }
   ],
   "source": [
    "type(marks_series)"
   ]
  },
  {
   "cell_type": "raw",
   "id": "bf29abfd-8367-4945-a44e-58e6cfbffd38",
   "metadata": {},
   "source": [
    "Series using read_csv"
   ]
  },
  {
   "cell_type": "code",
   "execution_count": 15,
   "id": "1685beed-7ae1-474b-a3b1-faae529be27a",
   "metadata": {},
   "outputs": [
    {
     "data": {
      "text/plain": [
       "0       48\n",
       "1       57\n",
       "2       40\n",
       "3       43\n",
       "4       44\n",
       "      ... \n",
       "360    231\n",
       "361    226\n",
       "362    155\n",
       "363    144\n",
       "364    172\n",
       "Name: Subscribers gained, Length: 365, dtype: int64"
      ]
     },
     "execution_count": 15,
     "metadata": {},
     "output_type": "execute_result"
    }
   ],
   "source": [
    "import numpy as np\n",
    "import pandas as pd\n",
    "subs = pd.read_csv(\"subs.csv\").squeeze(\"columns\")\n",
    "subs"
   ]
  },
  {
   "cell_type": "code",
   "execution_count": 16,
   "id": "68443702-c405-49f2-871b-53b83fc0071d",
   "metadata": {},
   "outputs": [
    {
     "data": {
      "text/plain": [
       "pandas.core.series.Series"
      ]
     },
     "execution_count": 16,
     "metadata": {},
     "output_type": "execute_result"
    }
   ],
   "source": [
    "type(subs)"
   ]
  },
  {
   "cell_type": "code",
   "execution_count": 22,
   "id": "76c5e362-a2dc-453c-bf45-3f160ac49fdf",
   "metadata": {},
   "outputs": [
    {
     "data": {
      "text/plain": [
       "match_no\n",
       "1       1\n",
       "2      23\n",
       "3      13\n",
       "4      12\n",
       "5       1\n",
       "       ..\n",
       "211     0\n",
       "212    20\n",
       "213    73\n",
       "214    25\n",
       "215     7\n",
       "Name: runs, Length: 215, dtype: int64"
      ]
     },
     "execution_count": 22,
     "metadata": {},
     "output_type": "execute_result"
    }
   ],
   "source": [
    "vk = pd.read_csv(\"kohli_ipl.csv\",index_col = \"match_no\").squeeze(\"columns\")\n",
    "vk"
   ]
  },
  {
   "cell_type": "code",
   "execution_count": 26,
   "id": "823a9d4f-e7b7-42bc-9ea5-fb25bc90f97f",
   "metadata": {},
   "outputs": [
    {
     "data": {
      "text/plain": [
       "movie\n",
       "Uri: The Surgical Strike                   Vicky Kaushal\n",
       "Battalion 609                                Vicky Ahuja\n",
       "The Accidental Prime Minister (film)         Anupam Kher\n",
       "Why Cheat India                            Emraan Hashmi\n",
       "Evening Shadows                         Mona Ambegaonkar\n",
       "                                              ...       \n",
       "Hum Tumhare Hain Sanam                    Shah Rukh Khan\n",
       "Aankhen (2002 film)                     Amitabh Bachchan\n",
       "Saathiya (film)                             Vivek Oberoi\n",
       "Company (film)                                Ajay Devgn\n",
       "Awara Paagal Deewana                        Akshay Kumar\n",
       "Name: lead, Length: 1500, dtype: object"
      ]
     },
     "execution_count": 26,
     "metadata": {},
     "output_type": "execute_result"
    }
   ],
   "source": [
    "movies = pd.read_csv(\"bollywood.csv\",index_col = \"movie\").squeeze(\"columns\")\n",
    "movies"
   ]
  },
  {
   "cell_type": "raw",
   "id": "54a1b8a1-50c2-41ab-a1d8-3042244491d2",
   "metadata": {},
   "source": [
    "Series methods:"
   ]
  },
  {
   "cell_type": "code",
   "execution_count": 27,
   "id": "d762b1b7-064d-47c6-a962-929d3cf67cbe",
   "metadata": {},
   "outputs": [
    {
     "data": {
      "text/plain": [
       "0    48\n",
       "1    57\n",
       "2    40\n",
       "3    43\n",
       "4    44\n",
       "Name: Subscribers gained, dtype: int64"
      ]
     },
     "execution_count": 27,
     "metadata": {},
     "output_type": "execute_result"
    }
   ],
   "source": [
    "#head and tail\n",
    "subs.head()\n",
    "    "
   ]
  },
  {
   "cell_type": "code",
   "execution_count": 29,
   "id": "087e055f-1841-47ff-9eb5-924761a0d04f",
   "metadata": {},
   "outputs": [
    {
     "data": {
      "text/plain": [
       "0    48\n",
       "1    57\n",
       "2    40\n",
       "Name: Subscribers gained, dtype: int64"
      ]
     },
     "execution_count": 29,
     "metadata": {},
     "output_type": "execute_result"
    }
   ],
   "source": [
    "subs.head(3)   #it will only give first three items"
   ]
  },
  {
   "cell_type": "code",
   "execution_count": 30,
   "id": "39dcffe3-5852-41e4-b7c5-fd341adb8dad",
   "metadata": {},
   "outputs": [
    {
     "data": {
      "text/plain": [
       "360    231\n",
       "361    226\n",
       "362    155\n",
       "363    144\n",
       "364    172\n",
       "Name: Subscribers gained, dtype: int64"
      ]
     },
     "execution_count": 30,
     "metadata": {},
     "output_type": "execute_result"
    }
   ],
   "source": [
    "subs.tail()"
   ]
  },
  {
   "cell_type": "code",
   "execution_count": 32,
   "id": "1ebce59c-5884-4bd3-b9fc-b5b141a579e5",
   "metadata": {},
   "outputs": [
    {
     "data": {
      "text/plain": [
       "match_no\n",
       "206     0\n",
       "207     0\n",
       "208     9\n",
       "209    58\n",
       "210    30\n",
       "211     0\n",
       "212    20\n",
       "213    73\n",
       "214    25\n",
       "215     7\n",
       "Name: runs, dtype: int64"
      ]
     },
     "execution_count": 32,
     "metadata": {},
     "output_type": "execute_result"
    }
   ],
   "source": [
    "vk.tail(10)"
   ]
  },
  {
   "cell_type": "code",
   "execution_count": 36,
   "id": "2546d70b-b4f4-4028-a545-f24ba668f340",
   "metadata": {},
   "outputs": [
    {
     "data": {
      "text/plain": [
       "movie\n",
       "Gour Hari Dastaan             Vinay Pathak\n",
       "Humne Jeena Seekh Liya       Omkar Bhatkar\n",
       "Khoobsurat (2014 film)        Sonam Kapoor\n",
       "Baby (2015 Hindi film)        Akshay Kumar\n",
       "Bhoothnath Returns        Amitabh Bachchan\n",
       "Name: lead, dtype: object"
      ]
     },
     "execution_count": 36,
     "metadata": {},
     "output_type": "execute_result"
    }
   ],
   "source": [
    "# sample : this gives one row randomly it is used to select randomly\n",
    "movies.sample(5)     # when 5 is passed than it gives 5 rows randomly"
   ]
  },
  {
   "cell_type": "code",
   "execution_count": 37,
   "id": "c77c139e-7624-46d8-a118-2124f0adafa0",
   "metadata": {},
   "outputs": [
    {
     "data": {
      "text/plain": [
       "lead\n",
       "Akshay Kumar        48\n",
       "Amitabh Bachchan    45\n",
       "Ajay Devgn          38\n",
       "Salman Khan         31\n",
       "Sanjay Dutt         26\n",
       "                    ..\n",
       "Diganth              1\n",
       "Parveen Kaur         1\n",
       "Seema Azmi           1\n",
       "Akanksha Puri        1\n",
       "Edwin Fernandes      1\n",
       "Name: count, Length: 566, dtype: int64"
      ]
     },
     "execution_count": 37,
     "metadata": {},
     "output_type": "execute_result"
    }
   ],
   "source": [
    "#values_count: it is used to find the frequency of values\n",
    "movies.value_counts()"
   ]
  },
  {
   "cell_type": "code",
   "execution_count": 40,
   "id": "4918f91b-1348-41fb-899a-a5b593a56640",
   "metadata": {},
   "outputs": [
    {
     "data": {
      "text/plain": [
       "match_no\n",
       "128    113\n",
       "126    109\n",
       "123    108\n",
       "120    100\n",
       "164    100\n",
       "      ... \n",
       "91       0\n",
       "206      0\n",
       "207      0\n",
       "211      0\n",
       "87       0\n",
       "Name: runs, Length: 215, dtype: int64"
      ]
     },
     "execution_count": 40,
     "metadata": {},
     "output_type": "execute_result"
    }
   ],
   "source": [
    "#sort_values makes temporary change\n",
    "vk.sort_values()[::-1]  #in descending order"
   ]
  },
  {
   "cell_type": "code",
   "execution_count": 41,
   "id": "7e829219-ce59-45e7-8e5c-0b98d41c1320",
   "metadata": {},
   "outputs": [
    {
     "data": {
      "text/plain": [
       "match_no\n",
       "128    113\n",
       "126    109\n",
       "123    108\n",
       "164    100\n",
       "120    100\n",
       "      ... \n",
       "93       0\n",
       "211      0\n",
       "130      0\n",
       "8        0\n",
       "135      0\n",
       "Name: runs, Length: 215, dtype: int64"
      ]
     },
     "execution_count": 41,
     "metadata": {},
     "output_type": "execute_result"
    }
   ],
   "source": [
    "vk.sort_values(ascending = False) #in descending order"
   ]
  },
  {
   "cell_type": "code",
   "execution_count": 42,
   "id": "4c07e427-cc96-4cc6-ae14-7ed54fbed752",
   "metadata": {},
   "outputs": [
    {
     "data": {
      "text/plain": [
       "match_no\n",
       "87       0\n",
       "211      0\n",
       "207      0\n",
       "206      0\n",
       "91       0\n",
       "      ... \n",
       "164    100\n",
       "120    100\n",
       "123    108\n",
       "126    109\n",
       "128    113\n",
       "Name: runs, Length: 215, dtype: int64"
      ]
     },
     "execution_count": 42,
     "metadata": {},
     "output_type": "execute_result"
    }
   ],
   "source": [
    "vk.sort_values()  # in ascending order"
   ]
  },
  {
   "cell_type": "code",
   "execution_count": 44,
   "id": "cdc4e705-6060-433c-b770-05309fea8a26",
   "metadata": {},
   "outputs": [
    {
     "data": {
      "text/plain": [
       "113"
      ]
     },
     "execution_count": 44,
     "metadata": {},
     "output_type": "execute_result"
    }
   ],
   "source": [
    "#to find highest value in IPL of vk\n",
    "vk.sort_values()[::-1].head(1).values[0]   #method chaining"
   ]
  },
  {
   "cell_type": "code",
   "execution_count": 50,
   "id": "1e5dd0c0-e2b0-4b2c-bbe1-4d569212e9cd",
   "metadata": {},
   "outputs": [
    {
     "data": {
      "text/plain": [
       "match_no\n",
       "1       1\n",
       "2      23\n",
       "3      13\n",
       "4      12\n",
       "5       1\n",
       "       ..\n",
       "211     0\n",
       "212    20\n",
       "213    73\n",
       "214    25\n",
       "215     7\n",
       "Name: runs, Length: 215, dtype: int64"
      ]
     },
     "execution_count": 50,
     "metadata": {},
     "output_type": "execute_result"
    }
   ],
   "source": [
    "# whwn we place inplace = True it makes permanent change in data set vk.sort_values(inplace = True)\n",
    "vk"
   ]
  },
  {
   "cell_type": "code",
   "execution_count": 61,
   "id": "2585a54b-b94e-4021-a4c5-a18190f2bbb8",
   "metadata": {},
   "outputs": [],
   "source": [
    "#sort_index)\n",
    "movies.sort_index(inplace = True)  #sorting according to index values"
   ]
  },
  {
   "cell_type": "code",
   "execution_count": 62,
   "id": "ad683e36-f419-47e6-af20-12a8a3c3037e",
   "metadata": {},
   "outputs": [
    {
     "data": {
      "text/plain": [
       "movie\n",
       "1920 (film)                   Rajniesh Duggall\n",
       "1920: London                     Sharman Joshi\n",
       "1920: The Evil Returns             Vicky Ahuja\n",
       "1971 (2007 film)                Manoj Bajpayee\n",
       "2 States (2014 film)              Arjun Kapoor\n",
       "                                   ...        \n",
       "Zindagi 50-50                      Veena Malik\n",
       "Zindagi Na Milegi Dobara        Hrithik Roshan\n",
       "Zindagi Tere Naam           Mithun Chakraborty\n",
       "Zokkomon                       Darsheel Safary\n",
       "Zor Lagaa Ke...Haiya!            Meghan Jadhav\n",
       "Name: lead, Length: 1500, dtype: object"
      ]
     },
     "execution_count": 62,
     "metadata": {},
     "output_type": "execute_result"
    }
   ],
   "source": [
    "movies"
   ]
  },
  {
   "cell_type": "code",
   "execution_count": 6,
   "id": "067e1a77-ec5e-428e-89de-899e77ff3636",
   "metadata": {},
   "outputs": [
    {
     "name": "stdout",
     "output_type": "stream",
     "text": [
      "match_no\n",
      "1       1\n",
      "2      23\n",
      "3      13\n",
      "4      12\n",
      "5       1\n",
      "       ..\n",
      "211     0\n",
      "212    20\n",
      "213    73\n",
      "214    25\n",
      "215     7\n",
      "Name: runs, Length: 215, dtype: int64\n"
     ]
    }
   ],
   "source": [
    "import numpy as np\n",
    "import pandas as pd\n",
    "\n",
    "game = pd.read_csv(\"kohli_ipl.csv\", index_col=\"match_no\").squeeze(\"columns\")\n",
    "print(game)\n"
   ]
  },
  {
   "cell_type": "raw",
   "id": "cfc0c874-0611-4d73-abcc-4da6da8471c4",
   "metadata": {},
   "source": [
    "Series Maths method:"
   ]
  },
  {
   "cell_type": "code",
   "execution_count": 7,
   "id": "1b592e72-3b04-4e5e-a88c-68e10889d402",
   "metadata": {},
   "outputs": [
    {
     "data": {
      "text/plain": [
       "215"
      ]
     },
     "execution_count": 7,
     "metadata": {},
     "output_type": "execute_result"
    }
   ],
   "source": [
    "#count: gives the total no of items presen inside the series not missing values\n",
    "\n",
    "game.count()"
   ]
  },
  {
   "cell_type": "code",
   "execution_count": 9,
   "id": "116b72d9-c1c8-4594-aa4a-06f4b64cc32a",
   "metadata": {},
   "outputs": [
    {
     "data": {
      "text/plain": [
       "0"
      ]
     },
     "execution_count": 9,
     "metadata": {},
     "output_type": "execute_result"
    }
   ],
   "source": [
    "#sum and product : it will find sum and product of the values\n",
    "game.prod()"
   ]
  },
  {
   "cell_type": "code",
   "execution_count": 10,
   "id": "f0ec52e1-916d-41ab-abac-43c7f05c3948",
   "metadata": {},
   "outputs": [
    {
     "data": {
      "text/plain": [
       "30.855813953488372"
      ]
     },
     "execution_count": 10,
     "metadata": {},
     "output_type": "execute_result"
    }
   ],
   "source": [
    "# mean,median,mode,std,var\n",
    "game.mean()"
   ]
  },
  {
   "cell_type": "code",
   "execution_count": 11,
   "id": "7693ac4d-4c23-402b-b528-863ffb6664ec",
   "metadata": {},
   "outputs": [
    {
     "data": {
      "text/plain": [
       "24.0"
      ]
     },
     "execution_count": 11,
     "metadata": {},
     "output_type": "execute_result"
    }
   ],
   "source": [
    "game.median()"
   ]
  },
  {
   "cell_type": "code",
   "execution_count": 12,
   "id": "9d48314b-49b0-45e0-b440-b81ee5b39f12",
   "metadata": {},
   "outputs": [
    {
     "data": {
      "text/plain": [
       "26.22980132830278"
      ]
     },
     "execution_count": 12,
     "metadata": {},
     "output_type": "execute_result"
    }
   ],
   "source": [
    "game.std()"
   ]
  },
  {
   "cell_type": "code",
   "execution_count": 13,
   "id": "75b53366-ae05-471a-80c5-108581690a77",
   "metadata": {},
   "outputs": [
    {
     "data": {
      "text/plain": [
       "688.0024777222344"
      ]
     },
     "execution_count": 13,
     "metadata": {},
     "output_type": "execute_result"
    }
   ],
   "source": [
    "game.var()"
   ]
  },
  {
   "cell_type": "code",
   "execution_count": 14,
   "id": "e53a8537-1026-4239-b6e9-83172aa5f3e4",
   "metadata": {},
   "outputs": [
    {
     "data": {
      "text/plain": [
       "0    0\n",
       "Name: runs, dtype: int64"
      ]
     },
     "execution_count": 14,
     "metadata": {},
     "output_type": "execute_result"
    }
   ],
   "source": [
    "game.mode()"
   ]
  },
  {
   "cell_type": "code",
   "execution_count": 15,
   "id": "731327c6-5300-48db-a8f3-150beed465b0",
   "metadata": {},
   "outputs": [
    {
     "data": {
      "text/plain": [
       "0"
      ]
     },
     "execution_count": 15,
     "metadata": {},
     "output_type": "execute_result"
    }
   ],
   "source": [
    "#min/max\n",
    "game.min()"
   ]
  },
  {
   "cell_type": "code",
   "execution_count": 16,
   "id": "1efcbd62-8a31-4bbf-8615-1821465169b0",
   "metadata": {},
   "outputs": [
    {
     "data": {
      "text/plain": [
       "113"
      ]
     },
     "execution_count": 16,
     "metadata": {},
     "output_type": "execute_result"
    }
   ],
   "source": [
    "game.max()"
   ]
  },
  {
   "cell_type": "code",
   "execution_count": 18,
   "id": "7247ce93-4748-495a-b1d1-2c38d7ba0502",
   "metadata": {},
   "outputs": [
    {
     "data": {
      "text/plain": [
       "count    215.000000\n",
       "mean      30.855814\n",
       "std       26.229801\n",
       "min        0.000000\n",
       "25%        9.000000\n",
       "50%       24.000000\n",
       "75%       48.000000\n",
       "max      113.000000\n",
       "Name: runs, dtype: float64"
      ]
     },
     "execution_count": 18,
     "metadata": {},
     "output_type": "execute_result"
    }
   ],
   "source": [
    "# describe: it proves a summary  of mathematical values\n",
    "game.describe()"
   ]
  },
  {
   "cell_type": "raw",
   "id": "c25215a3-1e70-4b92-b5af-8545fd4e122f",
   "metadata": {},
   "source": [
    "Series indexing:"
   ]
  },
  {
   "cell_type": "code",
   "execution_count": 20,
   "id": "ec5ec262-f02a-4133-a25b-c6373249d885",
   "metadata": {},
   "outputs": [],
   "source": [
    "x = pd.Series([13,21,14,18,16,19])"
   ]
  },
  {
   "cell_type": "code",
   "execution_count": 24,
   "id": "3d1aada5-b418-435a-a98e-6d0f332c3a38",
   "metadata": {},
   "outputs": [
    {
     "data": {
      "text/plain": [
       "16"
      ]
     },
     "execution_count": 24,
     "metadata": {},
     "output_type": "execute_result"
    }
   ],
   "source": [
    "x[4]"
   ]
  },
  {
   "cell_type": "code",
   "execution_count": 29,
   "id": "6475f08f-f087-461f-984d-8562914b59f2",
   "metadata": {},
   "outputs": [],
   "source": [
    "#negative indexing : Series doenot work in negative indexing numbers but if indexing are string it works\n",
    "#x.[-1]"
   ]
  },
  {
   "cell_type": "code",
   "execution_count": 31,
   "id": "baab3e77-5564-4dc3-a19c-f0e06e3fa26e",
   "metadata": {},
   "outputs": [
    {
     "data": {
      "text/plain": [
       "match_no\n",
       "7     34\n",
       "8      0\n",
       "9     21\n",
       "10     3\n",
       "11    10\n",
       "12    38\n",
       "13     3\n",
       "14    11\n",
       "15    50\n",
       "Name: runs, dtype: int64"
      ]
     },
     "execution_count": 31,
     "metadata": {},
     "output_type": "execute_result"
    }
   ],
   "source": [
    "#slicing\n",
    "game[6:15]"
   ]
  },
  {
   "cell_type": "code",
   "execution_count": 34,
   "id": "0473c00d-f56d-4201-8ec9-83456f863f6c",
   "metadata": {},
   "outputs": [
    {
     "data": {
      "text/plain": [
       "match_no\n",
       "210    30\n",
       "211     0\n",
       "212    20\n",
       "213    73\n",
       "214    25\n",
       "215     7\n",
       "Name: runs, dtype: int64"
      ]
     },
     "execution_count": 34,
     "metadata": {},
     "output_type": "execute_result"
    }
   ],
   "source": [
    "#negative slicing : works in same way as python\n",
    "game[-6::]"
   ]
  },
  {
   "cell_type": "code",
   "execution_count": 36,
   "id": "24123b07-fcbe-4189-b3f1-63920ba5a524",
   "metadata": {},
   "outputs": [
    {
     "data": {
      "text/plain": [
       "match_no\n",
       "3    13\n",
       "8     0\n",
       "6     9\n",
       "5     1\n",
       "Name: runs, dtype: int64"
      ]
     },
     "execution_count": 36,
     "metadata": {},
     "output_type": "execute_result"
    }
   ],
   "source": [
    "#fancy indexing\n",
    "game[[3,8,6,5]]"
   ]
  },
  {
   "cell_type": "code",
   "execution_count": 37,
   "id": "db325f70-8287-4b11-94a6-88c7f510e51f",
   "metadata": {},
   "outputs": [
    {
     "data": {
      "text/plain": [
       "0"
      ]
     },
     "execution_count": 37,
     "metadata": {},
     "output_type": "execute_result"
    }
   ],
   "source": [
    "#indexing with labels here 8 is index\n",
    "game[8]"
   ]
  },
  {
   "cell_type": "raw",
   "id": "0e0d3a8d-3e43-4e76-94a4-7d816325648f",
   "metadata": {},
   "source": [
    "Editing series:"
   ]
  },
  {
   "cell_type": "code",
   "execution_count": 38,
   "id": "33fb1682-8cc7-4428-a68b-51e07bee30c1",
   "metadata": {},
   "outputs": [
    {
     "data": {
      "text/plain": [
       "match_no\n",
       "1       1\n",
       "2      23\n",
       "3      13\n",
       "4      12\n",
       "5       1\n",
       "       ..\n",
       "211     0\n",
       "212    20\n",
       "213    73\n",
       "214    25\n",
       "215     7\n",
       "Name: runs, Length: 215, dtype: int64"
      ]
     },
     "execution_count": 38,
     "metadata": {},
     "output_type": "execute_result"
    }
   ],
   "source": [
    "#using indexing\n",
    "game[8] = 14\n",
    "game"
   ]
  },
  {
   "cell_type": "code",
   "execution_count": 40,
   "id": "fd2ef610-7f0d-4a1a-9d4b-9832ded11e3c",
   "metadata": {},
   "outputs": [
    {
     "data": {
      "text/plain": [
       "14"
      ]
     },
     "execution_count": 40,
     "metadata": {},
     "output_type": "execute_result"
    }
   ],
   "source": [
    "game[8]"
   ]
  },
  {
   "cell_type": "code",
   "execution_count": 43,
   "id": "8d483e47-de38-410e-bc27-f7a0f9513636",
   "metadata": {},
   "outputs": [
    {
     "data": {
      "text/plain": [
       "science    66\n",
       "maths      88\n",
       "nepali     88\n",
       "dtype: int64"
      ]
     },
     "execution_count": 43,
     "metadata": {},
     "output_type": "execute_result"
    }
   ],
   "source": [
    "#what if an index does not exist\n",
    "marks = {\n",
    "    \"science\":66,\n",
    "    \"maths\": 88,\n",
    "    \"nepali\":88,\n",
    "}\n",
    "marks_series = pd.Series(marks)\n",
    "marks_series"
   ]
  },
  {
   "cell_type": "code",
   "execution_count": 44,
   "id": "8871abf7-5c2f-4675-8b52-ed77a200f306",
   "metadata": {},
   "outputs": [],
   "source": [
    "marks_series[\"biology\"] = 78"
   ]
  },
  {
   "cell_type": "code",
   "execution_count": 45,
   "id": "f9687370-3e07-4cee-b19a-b43530cf7394",
   "metadata": {},
   "outputs": [
    {
     "data": {
      "text/plain": [
       "science    66\n",
       "maths      88\n",
       "nepali     88\n",
       "biology    78\n",
       "dtype: int64"
      ]
     },
     "execution_count": 45,
     "metadata": {},
     "output_type": "execute_result"
    }
   ],
   "source": [
    "marks_series"
   ]
  },
  {
   "cell_type": "code",
   "execution_count": 46,
   "id": "79841b23-3e15-4db6-8bf2-d283d63aeb2d",
   "metadata": {},
   "outputs": [],
   "source": [
    "#slicing\n",
    "marks_series[2:4] = [88,88]"
   ]
  },
  {
   "cell_type": "code",
   "execution_count": 47,
   "id": "15c151f4-f56b-4fee-9938-98bb3663cbff",
   "metadata": {},
   "outputs": [
    {
     "data": {
      "text/plain": [
       "science    66\n",
       "maths      88\n",
       "nepali     88\n",
       "biology    88\n",
       "dtype: int64"
      ]
     },
     "execution_count": 47,
     "metadata": {},
     "output_type": "execute_result"
    }
   ],
   "source": [
    "marks_series"
   ]
  },
  {
   "cell_type": "code",
   "execution_count": 49,
   "id": "5c62c170-605d-4a04-b19e-69802b48929e",
   "metadata": {},
   "outputs": [
    {
     "name": "stderr",
     "output_type": "stream",
     "text": [
      "C:\\Users\\Preeti Paudel\\AppData\\Local\\Temp\\ipykernel_14836\\1077642700.py:2: FutureWarning: Series.__setitem__ treating keys as positions is deprecated. In a future version, integer keys will always be treated as labels (consistent with DataFrame behavior). To set a value by position, use `ser.iloc[pos] = value`\n",
      "  marks_series[[0,1]] = [0,0]\n"
     ]
    },
    {
     "data": {
      "text/plain": [
       "science     0\n",
       "maths       0\n",
       "nepali     88\n",
       "biology    88\n",
       "dtype: int64"
      ]
     },
     "execution_count": 49,
     "metadata": {},
     "output_type": "execute_result"
    }
   ],
   "source": [
    "#fancy indexing\n",
    "marks_series[[0,1]] = [0,0]\n",
    "marks_series"
   ]
  },
  {
   "cell_type": "raw",
   "id": "d13bf4cb-c734-4b7c-bbec-398a9837e656",
   "metadata": {},
   "source": [
    "Series with functionalites:"
   ]
  },
  {
   "cell_type": "code",
   "execution_count": 58,
   "id": "c04f9f84-8b1c-4c66-abe2-d2566e5d58c9",
   "metadata": {},
   "outputs": [
    {
     "name": "stdout",
     "output_type": "stream",
     "text": [
      "4\n",
      "<class 'pandas.core.series.Series'>\n",
      "['T', '_AXIS_LEN', '_AXIS_ORDERS', '_AXIS_TO_AXIS_NUMBER', '_HANDLED_TYPES', '__abs__', '__add__', '__and__', '__annotations__', '__array__', '__array_priority__', '__array_ufunc__', '__bool__', '__class__', '__column_consortium_standard__', '__contains__', '__copy__', '__deepcopy__', '__delattr__', '__delitem__', '__dict__', '__dir__', '__divmod__', '__doc__', '__eq__', '__finalize__', '__float__', '__floordiv__', '__format__', '__ge__', '__getattr__', '__getattribute__', '__getitem__', '__getstate__', '__gt__', '__hash__', '__iadd__', '__iand__', '__ifloordiv__', '__imod__', '__imul__', '__init__', '__init_subclass__', '__int__', '__invert__', '__ior__', '__ipow__', '__isub__', '__iter__', '__itruediv__', '__ixor__', '__le__', '__len__', '__lt__', '__matmul__', '__mod__', '__module__', '__mul__', '__ne__', '__neg__', '__new__', '__nonzero__', '__or__', '__pandas_priority__', '__pos__', '__pow__', '__radd__', '__rand__', '__rdivmod__', '__reduce__', '__reduce_ex__', '__repr__', '__rfloordiv__', '__rmatmul__', '__rmod__', '__rmul__', '__ror__', '__round__', '__rpow__', '__rsub__', '__rtruediv__', '__rxor__', '__setattr__', '__setitem__', '__setstate__', '__sizeof__', '__str__', '__sub__', '__subclasshook__', '__truediv__', '__weakref__', '__xor__', '_accessors', '_accum_func', '_agg_examples_doc', '_agg_see_also_doc', '_align_for_op', '_align_frame', '_align_series', '_append', '_arith_method', '_as_manager', '_attrs', '_binop', '_can_hold_na', '_check_inplace_and_allows_duplicate_labels', '_check_is_chained_assignment_possible', '_check_label_or_level_ambiguity', '_check_setitem_copy', '_clear_item_cache', '_clip_with_one_bound', '_clip_with_scalar', '_cmp_method', '_consolidate', '_consolidate_inplace', '_construct_axes_dict', '_construct_result', '_constructor', '_constructor_expanddim', '_constructor_expanddim_from_mgr', '_constructor_from_mgr', '_convert_dtypes', '_data', '_deprecate_downcast', '_dir_additions', '_dir_deletions', '_drop_axis', '_drop_labels_or_levels', '_duplicated', '_expanddim_from_mgr', '_find_valid_index', '_flags', '_flex_method', '_from_mgr', '_get_axis', '_get_axis_name', '_get_axis_number', '_get_axis_resolvers', '_get_block_manager_axis', '_get_bool_data', '_get_cacher', '_get_cleaned_column_resolvers', '_get_index_resolvers', '_get_label_or_level_values', '_get_numeric_data', '_get_rows_with_mask', '_get_value', '_get_values_tuple', '_get_with', '_getitem_slice', '_gotitem', '_hidden_attrs', '_indexed_same', '_info_axis', '_info_axis_name', '_info_axis_number', '_init_dict', '_init_mgr', '_inplace_method', '_internal_names', '_internal_names_set', '_is_cached', '_is_copy', '_is_label_or_level_reference', '_is_label_reference', '_is_level_reference', '_is_mixed_type', '_is_view', '_item_cache', '_ixs', '_logical_func', '_logical_method', '_map_values', '_maybe_update_cacher', '_memory_usage', '_metadata', '_mgr', '_min_count_stat_function', '_name', '_needs_reindex_multi', '_pad_or_backfill', '_protect_consolidate', '_reduce', '_references', '_reindex_axes', '_reindex_indexer', '_reindex_multi', '_reindex_with_indexers', '_rename', '_replace_single', '_repr_data_resource_', '_repr_latex_', '_reset_cache', '_reset_cacher', '_set_as_cached', '_set_axis', '_set_axis_name', '_set_axis_nocheck', '_set_is_copy', '_set_labels', '_set_name', '_set_value', '_set_values', '_set_with', '_set_with_engine', '_shift_with_freq', '_slice', '_stat_function', '_stat_function_ddof', '_take_with_is_copy', '_to_latex_via_styler', '_typ', '_update_inplace', '_validate_dtype', '_values', '_where', 'abs', 'add', 'add_prefix', 'add_suffix', 'agg', 'aggregate', 'align', 'all', 'any', 'apply', 'argmax', 'argmin', 'argsort', 'array', 'asfreq', 'asof', 'astype', 'at', 'at_time', 'attrs', 'autocorr', 'axes', 'backfill', 'between', 'between_time', 'bfill', 'biology', 'bool', 'clip', 'combine', 'combine_first', 'compare', 'convert_dtypes', 'copy', 'corr', 'count', 'cov', 'cummax', 'cummin', 'cumprod', 'cumsum', 'describe', 'diff', 'div', 'divide', 'divmod', 'dot', 'drop', 'drop_duplicates', 'droplevel', 'dropna', 'dtype', 'dtypes', 'duplicated', 'empty', 'eq', 'equals', 'ewm', 'expanding', 'explode', 'factorize', 'ffill', 'fillna', 'filter', 'first', 'first_valid_index', 'flags', 'floordiv', 'ge', 'get', 'groupby', 'gt', 'hasnans', 'head', 'hist', 'iat', 'idxmax', 'idxmin', 'iloc', 'index', 'infer_objects', 'info', 'interpolate', 'is_monotonic_decreasing', 'is_monotonic_increasing', 'is_unique', 'isin', 'isna', 'isnull', 'item', 'items', 'keys', 'kurt', 'kurtosis', 'last', 'last_valid_index', 'le', 'loc', 'lt', 'map', 'mask', 'maths', 'max', 'mean', 'median', 'memory_usage', 'min', 'mod', 'mode', 'mul', 'multiply', 'name', 'nbytes', 'ndim', 'ne', 'nepali', 'nlargest', 'notna', 'notnull', 'nsmallest', 'nunique', 'pad', 'pct_change', 'pipe', 'plot', 'pop', 'pow', 'prod', 'product', 'quantile', 'radd', 'rank', 'ravel', 'rdiv', 'rdivmod', 'reindex', 'reindex_like', 'rename', 'rename_axis', 'reorder_levels', 'repeat', 'replace', 'resample', 'reset_index', 'rfloordiv', 'rmod', 'rmul', 'rolling', 'round', 'rpow', 'rsub', 'rtruediv', 'sample', 'science', 'searchsorted', 'sem', 'set_axis', 'set_flags', 'shape', 'shift', 'size', 'skew', 'sort_index', 'sort_values', 'squeeze', 'std', 'sub', 'subtract', 'sum', 'swapaxes', 'swaplevel', 'tail', 'take', 'to_clipboard', 'to_csv', 'to_dict', 'to_excel', 'to_frame', 'to_hdf', 'to_json', 'to_latex', 'to_list', 'to_markdown', 'to_numpy', 'to_period', 'to_pickle', 'to_sql', 'to_string', 'to_timestamp', 'to_xarray', 'transform', 'transpose', 'truediv', 'truncate', 'tz_convert', 'tz_localize', 'unique', 'unstack', 'update', 'value_counts', 'values', 'var', 'view', 'where', 'xs']\n",
      "[0, 0, 88, 88]\n",
      "0\n",
      "88\n"
     ]
    }
   ],
   "source": [
    "#len/type/sorted/max/mib\n",
    "print(len(marks_series))\n",
    "print(type(marks_series))\n",
    "print(dir(marks_series))\n",
    "print(sorted(marks_series)) #output will be in list\n",
    "print(min(marks_series))\n",
    "print(max(marks_series))\n"
   ]
  },
  {
   "cell_type": "code",
   "execution_count": 60,
   "id": "f25c9241-9ee5-43c5-9299-0c793a8377cd",
   "metadata": {},
   "outputs": [
    {
     "data": {
      "text/plain": [
       "[0, 0, 88, 88]"
      ]
     },
     "execution_count": 60,
     "metadata": {},
     "output_type": "execute_result"
    }
   ],
   "source": [
    "#type_conversion\n",
    "list(marks_series)"
   ]
  },
  {
   "cell_type": "code",
   "execution_count": 61,
   "id": "92d0c4ba-56ce-494d-bb0f-bda3d84665cf",
   "metadata": {},
   "outputs": [
    {
     "data": {
      "text/plain": [
       "{'science': 0, 'maths': 0, 'nepali': 88, 'biology': 88}"
      ]
     },
     "execution_count": 61,
     "metadata": {},
     "output_type": "execute_result"
    }
   ],
   "source": [
    "dict(marks_series)"
   ]
  },
  {
   "cell_type": "code",
   "execution_count": 62,
   "id": "6746d04d-46a4-484d-a1c0-6284eec8850e",
   "metadata": {},
   "outputs": [
    {
     "data": {
      "text/plain": [
       "False"
      ]
     },
     "execution_count": 62,
     "metadata": {},
     "output_type": "execute_result"
    }
   ],
   "source": [
    "#membership operator\n",
    "\"chemistry\" in marks_series  #it works in index"
   ]
  },
  {
   "cell_type": "code",
   "execution_count": 64,
   "id": "e8272c83-b253-4210-bab8-0def6f795e43",
   "metadata": {},
   "outputs": [
    {
     "data": {
      "text/plain": [
       "False"
      ]
     },
     "execution_count": 64,
     "metadata": {},
     "output_type": "execute_result"
    }
   ],
   "source": [
    "#to work in value\n",
    "\"88\" in marks_series"
   ]
  },
  {
   "cell_type": "code",
   "execution_count": 65,
   "id": "290f1c10-1a7c-44cc-a66f-f6e217b43711",
   "metadata": {},
   "outputs": [
    {
     "name": "stdout",
     "output_type": "stream",
     "text": [
      "0\n",
      "0\n",
      "88\n",
      "88\n"
     ]
    }
   ],
   "source": [
    "#looping\n",
    "for i in marks_series: #works with values\n",
    "    print(i)"
   ]
  },
  {
   "cell_type": "code",
   "execution_count": 67,
   "id": "7acdb476-0b7d-47a4-b7aa-9db1a13e284c",
   "metadata": {},
   "outputs": [
    {
     "name": "stdout",
     "output_type": "stream",
     "text": [
      "science\n",
      "maths\n",
      "nepali\n",
      "biology\n"
     ]
    }
   ],
   "source": [
    "#to work with index\n",
    "for i in marks_series.index:\n",
    "    print(i)"
   ]
  },
  {
   "cell_type": "code",
   "execution_count": 68,
   "id": "be119191-19c2-40e2-a6bf-5173bf11a358",
   "metadata": {},
   "outputs": [
    {
     "data": {
      "text/plain": [
       "science    100\n",
       "maths      100\n",
       "nepali      12\n",
       "biology     12\n",
       "dtype: int64"
      ]
     },
     "execution_count": 68,
     "metadata": {},
     "output_type": "execute_result"
    }
   ],
   "source": [
    "#airthmetic operator\n",
    "100 - marks_series"
   ]
  },
  {
   "cell_type": "code",
   "execution_count": 70,
   "id": "4952baae-7d1f-4319-bfa5-4c9ba1513c9a",
   "metadata": {},
   "outputs": [
    {
     "data": {
      "text/plain": [
       "match_no\n",
       "1      False\n",
       "2       True\n",
       "3      False\n",
       "4      False\n",
       "5      False\n",
       "       ...  \n",
       "211    False\n",
       "212     True\n",
       "213     True\n",
       "214     True\n",
       "215    False\n",
       "Name: runs, Length: 215, dtype: bool"
      ]
     },
     "execution_count": 70,
     "metadata": {},
     "output_type": "execute_result"
    }
   ],
   "source": [
    "#relational operators\n",
    "game >= 15"
   ]
  },
  {
   "cell_type": "code",
   "execution_count": 72,
   "id": "635d35ad-36a7-4de0-940a-5ce6bdecf435",
   "metadata": {},
   "outputs": [
    {
     "data": {
      "text/plain": [
       "122"
      ]
     },
     "execution_count": 72,
     "metadata": {},
     "output_type": "execute_result"
    }
   ],
   "source": [
    "#boolean indexing\n",
    "game[game>=20]"
   ]
  },
  {
   "cell_type": "code",
   "execution_count": 73,
   "id": "cfe6774e-8baf-4dbd-945d-9fd51af8ffae",
   "metadata": {},
   "outputs": [
    {
     "data": {
      "text/plain": [
       "8"
      ]
     },
     "execution_count": 73,
     "metadata": {},
     "output_type": "execute_result"
    }
   ],
   "source": [
    "game[game==0].size"
   ]
  },
  {
   "cell_type": "raw",
   "id": "f40104a0-ecc7-435a-bcae-4eda30bca9b7",
   "metadata": {},
   "source": [
    "Plotting graphs on series:"
   ]
  },
  {
   "cell_type": "code",
   "execution_count": 74,
   "id": "d66c0f3c-e1ac-415b-b6b9-178e8df61ddb",
   "metadata": {},
   "outputs": [
    {
     "data": {
      "text/plain": [
       "<Axes: xlabel='match_no'>"
      ]
     },
     "execution_count": 74,
     "metadata": {},
     "output_type": "execute_result"
    },
    {
     "data": {
      "image/png": "[encoded data removed]",
      "text/plain": [
       "<Figure size 640x480 with 1 Axes>"
      ]
     },
     "metadata": {},
     "output_type": "display_data"
    }
   ],
   "source": [
    "game.plot()   # it will give 2D plot"
   ]
  },
  {
   "cell_type": "code",
   "execution_count": 77,
   "id": "072bef4a-ba1f-464b-b684-2776a0e9e63c",
   "metadata": {},
   "outputs": [
    {
     "data": {
      "text/plain": [
       "<Axes: ylabel='runs'>"
      ]
     },
     "execution_count": 77,
     "metadata": {},
     "output_type": "execute_result"
    },
    {
     "data": {
      "image/png": "[encoded data removed]",
      "text/plain": [
       "<Figure size 640x480 with 1 Axes>"
      ]
     },
     "metadata": {},
     "output_type": "display_data"
    }
   ],
   "source": [
    "game.plot(kind = 'pie') #we can plot different kind of graph"
   ]
  },
  {
   "cell_type": "code",
   "execution_count": null,
   "id": "25342617-be10-478b-aa3f-e746306a2b7b",
   "metadata": {},
   "outputs": [],
   "source": []
  }
 ],
 "metadata": {
  "kernelspec": {
   "display_name": "Python 3 (ipykernel)",
   "language": "python",
   "name": "python3"
  },
  "language_info": {
   "codemirror_mode": {
    "name": "ipython",
    "version": 3
   },
   "file_extension": ".py",
   "mimetype": "text/x-python",
   "name": "python",
   "nbconvert_exporter": "python",
   "pygments_lexer": "ipython3",
   "version": "3.11.7"
  }
 },
 "nbformat": 4,
 "nbformat_minor": 5
}
